{
 "cells": [
  {
   "cell_type": "code",
   "execution_count": 2,
   "metadata": {},
   "outputs": [],
   "source": [
    "# import libraries\n",
    "import pandas as pd\n",
    "import numpy as np\n",
    "import os\n",
    "import matplotlib.pyplot as plt\n",
    "import seaborn as sns\n",
    "\n",
    "import cv2\n",
    "import os"
   ]
  },
  {
   "cell_type": "code",
   "execution_count": 3,
   "metadata": {},
   "outputs": [],
   "source": [
    "# Specify the path to the directory containing your images\n",
    "image_dir = \"C:\\\\Users\\\\Vishaly\\\\OneDrive - Hong Kong Baptist University\\\\Miscellaneous\\\\Vishaly\\\\Coding\\\\Data-Science-Projects\\\\Cleaned-VS-Dirty\\\\platesv2 (1)\\\\plates\\\\__MACOSX\\\\train\"\n",
    "\n",
    "# Initialize an empty list to hold the loaded images\n",
    "loaded_images = []\n",
    "\n",
    "# Loop through each file in the directory\n",
    "for train in os.listdir(image_dir):\n",
    "    # Construct the full file path\n",
    "    file_path = os.path.join(image_dir, train)\n",
    "    \n",
    "    # Check if the file is an image (you might want to adjust this depending on your needs)\n",
    "    if file_path.endswith(( '.jpg')):\n",
    "        # Read the image using OpenCV\n",
    "        img = cv2.imread(file_path)\n",
    "        \n",
    "        # Add the image to the list\n",
    "        loaded_images.append(img)\n",
    "\n",
    "# Now, `loaded_images` contains all your images loaded into memory as NumPy arrays\n"
   ]
  },
  {
   "cell_type": "code",
   "execution_count": 4,
   "metadata": {},
   "outputs": [],
   "source": [
    "from PIL import Image\n",
    "import os\n",
    "\n",
    "# Assuming your images are stored in a folder named 'images'\n",
    "image_folder = \"C:\\\\Users\\\\Vishaly\\\\OneDrive - Hong Kong Baptist University\\\\Miscellaneous\\\\Vishaly\\\\Coding\\\\Data-Science-Projects\\\\Cleaned-VS-Dirty\\\\platesv2 (1)\\\\plates\\\\__MACOSX\\\\train\"\n",
    "\n",
    "# List to hold all loaded images\n",
    "images = []\n",
    "\n",
    "for filename in os.listdir(image_folder):\n",
    "    if filename.endswith('.jpg'):  # Ensure we're only loading.jpg files\n",
    "        img_path = os.path.join(image_folder, filename)\n",
    "        try:\n",
    "            img = Image.open(img_path)\n",
    "            images.append(img)\n",
    "        except IOError:\n",
    "            print(f\"Failed to open {img_path}\")\n",
    "\n",
    "# Now, 'images' contains all your loaded images"
   ]
  },
  {
   "cell_type": "code",
   "execution_count": 5,
   "metadata": {},
   "outputs": [],
   "source": [
    "# Display all images\n",
    "for img in images:\n",
    "    plt.imshow(img)\n",
    "    plt.show()"
   ]
  }
 ],
 "metadata": {
  "kernelspec": {
   "display_name": "base",
   "language": "python",
   "name": "python3"
  },
  "language_info": {
   "codemirror_mode": {
    "name": "ipython",
    "version": 3
   },
   "file_extension": ".py",
   "mimetype": "text/x-python",
   "name": "python",
   "nbconvert_exporter": "python",
   "pygments_lexer": "ipython3",
   "version": "3.11.7"
  }
 },
 "nbformat": 4,
 "nbformat_minor": 2
}
